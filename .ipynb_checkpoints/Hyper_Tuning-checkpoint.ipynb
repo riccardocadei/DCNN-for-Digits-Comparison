{
 "cells": [
  {
   "cell_type": "code",
   "execution_count": null,
   "id": "living-forwarding",
   "metadata": {},
   "outputs": [],
   "source": [
    "!pip install hyperopt\n",
    "!pip install optuna"
   ]
  },
  {
   "cell_type": "code",
   "execution_count": null,
   "id": "recreational-parallel",
   "metadata": {},
   "outputs": [],
   "source": [
    "from hyperopt import tpe, hp, fmin\n",
    "import numpy as np\n",
    "import torch\n",
    "import dlc_practical_prologue as prologue\n",
    "from models import *\n",
    "from training import *\n",
    "import optuna"
   ]
  },
  {
   "cell_type": "code",
   "execution_count": null,
   "id": "advanced-sunglasses",
   "metadata": {},
   "outputs": [],
   "source": [
    "def objective(trial): \n",
    "    aux_loss_weight=trial.suggest_float('aux_loss_weight', 0.1, 0.5)\n",
    "    weight_decay=trial.suggest_float('weight_decay', 1e-5, 1e-1, log = True)\n",
    "    lr=trial.suggest_float('lr', 1e-5, 1e-1, log = True)       \n",
    "    filters=trial.suggest_int('filters', 8, 100)\n",
    "    train_losses, val_losses, (train_error, val_error, test_error) = run_experiment(ConvNet(depth=30, use_auxiliary_loss=True, n_classes=2, filters=filters), \n",
    "                                                                                    use_auxiliary_loss=True, \n",
    "                                                                                    aux_loss_weight=aux_loss_weight,\n",
    "                                                                                    nb_epochs=50,\n",
    "                                                                                    weight_decay=weight_decay,\n",
    "                                                                                    model_name=\"ConvNet\",\n",
    "                                                                                    augment=True,\n",
    "                                                                                    batch_size=50,\n",
    "                                                                                    lr=lr,\n",
    "                                                                                    percentage_val=0.1,\n",
    "                                                                                    verbose=0, \n",
    "                                                                                    plot=False)\n",
    "    return test_error\n",
    "\n",
    "\n",
    "\n",
    "study = optuna.create_study(direction='minimize')\n",
    "study.optimize(objective, n_trials=100)"
   ]
  },
  {
   "cell_type": "code",
   "execution_count": null,
   "id": "acute-equality",
   "metadata": {},
   "outputs": [],
   "source": []
  },
  {
   "cell_type": "code",
   "execution_count": null,
   "id": "celtic-radical",
   "metadata": {},
   "outputs": [],
   "source": []
  }
 ],
 "metadata": {
  "kernelspec": {
   "display_name": "Python 3",
   "language": "python",
   "name": "python3"
  },
  "language_info": {
   "codemirror_mode": {
    "name": "ipython",
    "version": 3
   },
   "file_extension": ".py",
   "mimetype": "text/x-python",
   "name": "python",
   "nbconvert_exporter": "python",
   "pygments_lexer": "ipython3",
   "version": "3.7.6"
  }
 },
 "nbformat": 4,
 "nbformat_minor": 5
}
