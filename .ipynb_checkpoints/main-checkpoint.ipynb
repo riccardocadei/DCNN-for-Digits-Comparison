{
 "cells": [
  {
   "cell_type": "markdown",
   "metadata": {},
   "source": [
    "# EE 559 Project 1\n",
    "\n",
    "#### Comparing couple of images from MNIST dataset using DCNN."
   ]
  },
  {
   "cell_type": "code",
   "execution_count": null,
   "metadata": {},
   "outputs": [],
   "source": [
    "import torch\n",
    "\n",
    "from dlc_practical_prologue import *\n",
    "\n",
    "from models import *\n",
    "from training import *\n",
    "from other import *"
   ]
  },
  {
   "cell_type": "markdown",
   "metadata": {},
   "source": [
    "# Load the Dataset"
   ]
  },
  {
   "cell_type": "code",
   "execution_count": null,
   "metadata": {
    "tags": []
   },
   "outputs": [],
   "source": [
    "#from six.moves import urllib    \n",
    "#opener = urllib.request.build_opener()\n",
    "#opener.addheaders = [('User-agent', 'Mozilla/5.0')]\n",
    "#urllib.request.install_opener(opener)\n",
    "\n",
    "N = 1000\n",
    "train_input, train_target, train_classes, test_input, test_target, test_classes \\\n",
    "     = generate_pair_sets(N)"
   ]
  },
  {
   "cell_type": "markdown",
   "metadata": {},
   "source": [
    "### Example"
   ]
  },
  {
   "cell_type": "code",
   "execution_count": null,
   "metadata": {},
   "outputs": [],
   "source": [
    "import matplotlib.pyplot as plt\n",
    "\n",
    "torch.manual_seed(2)\n",
    "n = torch.randint(1000,[1])[0]\n",
    "\n",
    "fig, axs = plt.subplots(1,2, figsize=(8,10))\n",
    "fig.subplots_adjust(top=1.5)\n",
    "fig.suptitle('Couple of digits from MNIST dataset')\n",
    "axs[0].imshow(train_input[n,0], cmap='Greys')\n",
    "axs[1].imshow(train_input[n,1], cmap='Greys');\n"
   ]
  },
  {
   "cell_type": "markdown",
   "metadata": {},
   "source": [
    "# MODEL 1\n",
    "#### Model directly each couple of images of digits to the binary output (IneqNET)"
   ]
  },
  {
   "cell_type": "code",
   "execution_count": null,
   "metadata": {},
   "outputs": [],
   "source": [
    "model = IneqNET()"
   ]
  },
  {
   "cell_type": "code",
   "execution_count": null,
   "metadata": {},
   "outputs": [],
   "source": [
    "# number of trainable parameters\n",
    "##### NOT TO BE INCLUDED IN FINAL CODE..? #########\n",
    "import numpy as np\n",
    "model_parameters = filter(lambda p: p.requires_grad, model.parameters())\n",
    "params = sum([np.prod(p.size()) for p in model_parameters])\n",
    "print(params)"
   ]
  },
  {
   "cell_type": "code",
   "execution_count": null,
   "metadata": {},
   "outputs": [],
   "source": [
    " train_losses, test_losses, test_error = run_experiment_no_aux(model)"
   ]
  },
  {
   "cell_type": "markdown",
   "metadata": {},
   "source": [
    "# MODEL 2\n",
    "#### Firstly model each couple of images of digits to the digits that they represent and then evaluate their inequality. (DigiNET)"
   ]
  },
  {
   "cell_type": "markdown",
   "metadata": {},
   "source": [
    "# MODEL 3\n",
    "### Let's combine the first two approaches"
   ]
  },
  {
   "cell_type": "code",
   "execution_count": null,
   "metadata": {},
   "outputs": [],
   "source": []
  }
 ],
 "metadata": {
  "kernelspec": {
   "display_name": "Python 3",
   "language": "python",
   "name": "python3"
  },
  "language_info": {
   "codemirror_mode": {
    "name": "ipython",
    "version": 3
   },
   "file_extension": ".py",
   "mimetype": "text/x-python",
   "name": "python",
   "nbconvert_exporter": "python",
   "pygments_lexer": "ipython3",
   "version": "3.7.6"
  }
 },
 "nbformat": 4,
 "nbformat_minor": 2
}
