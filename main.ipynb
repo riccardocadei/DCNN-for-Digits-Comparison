{
 "cells": [
  {
   "cell_type": "markdown",
   "metadata": {},
   "source": [
    "# EE 559 Project 1\n",
    "\n",
    "#### Comparing couple of images from MNIST dataset using DCNN."
   ]
  },
  {
   "cell_type": "code",
   "execution_count": null,
   "metadata": {},
   "outputs": [],
   "source": [
    "import torch\n",
    "\n",
    "import dlc_practical_prologue as prologue\n",
    "from models import *\n",
    "from training import *"
   ]
  },
  {
   "cell_type": "markdown",
   "metadata": {},
   "source": [
    "# Load the Dataset"
   ]
  },
  {
   "cell_type": "code",
   "execution_count": null,
   "metadata": {},
   "outputs": [],
   "source": [
    "N = 1000\n",
    "train_input, train_target, train_classes, test_input, test_target, test_classes = prologue.generate_pair_sets(N)\n",
    "\n",
    "# Example\n",
    "n = torch.randint(1000,[1])[0]\n",
    "fig, axs = plt.subplots(1,2, figsize=(8,10))\n",
    "fig.subplots_adjust(top=1.5)\n",
    "fig.suptitle('Couple of digits from MNIST dataset')\n",
    "axs[0].imshow(train_input[n,0], cmap='Greys')\n",
    "axs[1].imshow(train_input[n,1], cmap='Greys');"
   ]
  },
  {
   "source": [
    "# Baseline: Multi Layer Perceptron\n",
    "#### Model directly each couple of images of digits to the binary output through a Convolutional Neural Network (IneqMLP)"
   ],
   "cell_type": "markdown",
   "metadata": {}
  },
  {
   "cell_type": "code",
   "execution_count": null,
   "metadata": {
    "tags": []
   },
   "outputs": [],
   "source": [
    "# model\n",
    "model = IneqMLP()\n",
    "model_name='IneqMLP'\n",
    "\n",
    "# training\n",
    "percentage_val = 0.1\n",
    "nb_epochs = 5\n",
    "batch_size = 50\n",
    "\n",
    "# auxiliary loss\n",
    "use_auxiliary_loss = False\n",
    "aux_loss_weight = 0.3   # <0.5\n",
    "\n",
    "# optimizer\n",
    "weight_decay = 0.1\n",
    "lr = 8e-5*0.5\n",
    "period = 1\n",
    "\n",
    "# display\n",
    "verbose = 1\n",
    "plot = True\n",
    "\n",
    "run_experiment(model, use_auxiliary_loss=use_auxiliary_loss, aux_loss_weight=aux_loss_weight, model_name=model_name, percentage_val=percentage_val,nb_epochs=nb_epochs, batch_size=batch_size, weight_decay=weight_decay, lr=lr, verbose=verbose, plot=True);"
   ]
  },
  {
   "cell_type": "code",
   "execution_count": null,
   "metadata": {},
   "outputs": [],
   "source": [
    "n_iter = 2\n",
    "\n",
    "evaluate_model(model, n=n_iter, use_auxiliary_loss=use_auxiliary_loss, aux_loss_weight=aux_loss_weight, nb_epochs=nb_epochs, weight_decay=weight_decay, batch_size=batch_size, lr=lr, percentage_val=percentage_val)"
   ]
  },
  {
   "cell_type": "markdown",
   "metadata": {},
   "source": [
    "# Convolutional Neural Network \n",
    "#### Model directly each couple of images of digits to the binary output through a Convolutional Neural Network (IneqCNet)"
   ]
  },
  {
   "cell_type": "code",
   "execution_count": null,
   "metadata": {},
   "outputs": [],
   "source": [
    "# model\n",
    "model = ConvNet(depth=30, filters=8, use_auxiliary_loss=True) # or IneqCNet()\n",
    "model_name='ConvNet'\n",
    "\n",
    "# training\n",
    "percentage_val = 0.1\n",
    "nb_epochs = 5\n",
    "batch_size = 50\n",
    "\n",
    "# auxiliary loss\n",
    "use_auxiliary_loss = True\n",
    "aux_loss_weight = 0.3 # <=0.5\n",
    "\n",
    "# optimizer\n",
    "weight_decay = 0.1\n",
    "lr = 1e-3*0.5\n",
    "period = 1\n",
    "\n",
    "# display\n",
    "verbose = 1\n",
    "plot = True\n",
    "\n",
    "run_experiment(model, use_auxiliary_loss=use_auxiliary_loss, aux_loss_weight=aux_loss_weight, model_name=model_name, percentage_val=percentage_val, nb_epochs=nb_epochs, batch_size=batch_size, weight_decay=weight_decay, lr=lr,verbose=verbose, plot=True);"
   ]
  },
  {
   "cell_type": "code",
   "execution_count": null,
   "metadata": {},
   "outputs": [],
   "source": [
    "n_iter = 2\n",
    "\n",
    "evaluate_model(model, n=n_iter, use_auxiliary_loss=use_auxiliary_loss, aux_loss_weight=aux_loss_weight, nb_epochs=nb_epochs, weight_decay=weight_decay, batch_size=batch_size, lr=lr, percentage_val=percentage_val)"
   ]
  },
  {
   "cell_type": "markdown",
   "metadata": {},
   "source": [
    "# ResNet"
   ]
  },
  {
   "cell_type": "code",
   "execution_count": null,
   "metadata": {},
   "outputs": [],
   "source": [
    "# model\n",
    "model = ResNetAux(depth=10,filters=64)\n",
    "model_name='ResNet'\n",
    "\n",
    "# training\n",
    "percentage_val = 0.1\n",
    "nb_epochs = 3\n",
    "mini_batch_size = 50\n",
    "\n",
    "# auxiliary loss\n",
    "use_auxiliary_loss = use_aux_loss(model)\n",
    "aux_loss_weight = 0.3   # <=0.5\n",
    "\n",
    "# optimizer\n",
    "weight_decay = 0.1\n",
    "lr = 8e-5*0.5\n",
    "period = 1\n",
    "\n",
    "# display\n",
    "verbose = 1\n",
    "plot = True\n",
    "\n",
    "run_experiment(model, use_auxiliary_loss=use_auxiliary_loss, aux_loss_weight=aux_loss_weight, model_name=model_name, percentage_val=percentage_val,nb_epochs=nb_epochs, mini_batch_size=mini_batch_size, weight_decay=weight_decay, lr=lr, period=period, verbose=verbose, plot=True);"
   ]
  },
  {
   "cell_type": "code",
   "execution_count": null,
   "metadata": {},
   "outputs": [],
   "source": [
    "n_iter = 2\n",
    "\n",
    "evaluate_model(model, n=n_iter, use_auxiliary_loss=use_auxiliary_loss, aux_loss_weight=aux_loss_weight, nb_epochs=nb_epochs, weight_decay=weight_decay, batch_size=batch_size, lr=lr, percentage_val=percentage_val)"
   ]
  }
 ],
 "metadata": {
  "kernelspec": {
   "name": "python38364bitbasee995d86714984d3e967bbd8d52908d22",
   "display_name": "Python 3.8.3 64-bit ('base': conda)"
  },
  "language_info": {
   "codemirror_mode": {
    "name": "ipython",
    "version": 3
   },
   "file_extension": ".py",
   "mimetype": "text/x-python",
   "name": "python",
   "nbconvert_exporter": "python",
   "pygments_lexer": "ipython3",
   "version": "3.8.3"
  },
  "metadata": {
   "interpreter": {
    "hash": "ac1179b8a3bc079747851bb5c9341e373831614c825d49f19d3d38ecf4dd05ef"
   }
  }
 },
 "nbformat": 4,
 "nbformat_minor": 2
}